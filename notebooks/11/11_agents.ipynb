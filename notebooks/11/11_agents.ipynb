{
 "cells": [
  {
   "cell_type": "markdown",
   "id": "d8967aa1",
   "metadata": {},
   "source": [
    "# Resources\n",
    "\n",
    "* Build a Retrieval Augmented Generation (RAG) App: [Part 2 - agents](https://python.langchain.com/docs/tutorials/qa_chat_history/#agents)\n",
    "* [Agentic RAG](https://langchain-ai.github.io/langgraph/tutorials/rag/langgraph_agentic_rag/)\n",
    "* [Multi-agent supervisor](https://langchain-ai.github.io/langgraph/tutorials/multi_agent/agent_supervisor/)\n",
    "* https://langchain-ai.github.io/langgraph/how-tos/multi-agent-network/\n",
    "* https://langchain-ai.github.io/langgraph/how-tos/multi-agent-multi-turn-convo/\n",
    "* https://langchain-ai.github.io/langgraph/how-tos/react-agent-from-scratch/\n",
    "* https://langchain-ai.github.io/langgraph/agents/agents/\n",
    "* https://python.langchain.com/docs/tutorials/agents/\n",
    "* https://huggingface.co/learn/agents-course/\n",
    "* https://modelcontextprotocol.io/introduction\n",
    "* https://python.langchain.com/docs/how_to/qa_citations/\n",
    "* https://python.langchain.com/docs/how_to/qa_sources/\n",
    "\n"
   ]
  }
 ],
 "metadata": {
  "language_info": {
   "name": "python"
  }
 },
 "nbformat": 4,
 "nbformat_minor": 5
}
